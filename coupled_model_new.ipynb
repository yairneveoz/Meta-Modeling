{
  "nbformat": 4,
  "nbformat_minor": 0,
  "metadata": {
    "colab": {
      "name": "coupled_model_new.ipynb",
      "provenance": [],
      "collapsed_sections": []
    },
    "kernelspec": {
      "display_name": "Python 3",
      "name": "python3"
    }
  },
  "cells": [
    {
      "cell_type": "code",
      "metadata": {
        "id": "LiRhZKeG7PMG",
        "colab": {
          "base_uri": "https://localhost:8080/"
        },
        "outputId": "946f3ccd-3af1-4a93-cbab-c5801700777d"
      },
      "source": [
        "# !pip install arviz -q\n",
        "# !pip install theano-pymc -q\n",
        "# !pip install pymc3==3.10.0 -q #\n",
        "\n",
        "!pip install arviz==0.6.1 -q\n",
        "!pip install pymc3==3.8 -q\n",
        "!pip install Theano==1.0.4 -q"
      ],
      "execution_count": null,
      "outputs": [
        {
          "output_type": "stream",
          "text": [
            "\u001b[K     |████████████████████████████████| 1.4MB 7.7MB/s \n",
            "\u001b[K     |████████████████████████████████| 4.7MB 29.6MB/s \n",
            "\u001b[K     |████████████████████████████████| 317kB 54.9MB/s \n",
            "\u001b[K     |████████████████████████████████| 911kB 8.2MB/s \n",
            "\u001b[K     |████████████████████████████████| 2.8MB 8.3MB/s \n",
            "\u001b[?25h  Building wheel for Theano (setup.py) ... \u001b[?25l\u001b[?25hdone\n"
          ],
          "name": "stdout"
        }
      ]
    },
    {
      "cell_type": "code",
      "metadata": {
        "colab": {
          "base_uri": "https://localhost:8080/"
        },
        "id": "fOum5Bri7nIt",
        "outputId": "5ea5dd92-8d9d-4245-f1a3-91881c42ea70"
      },
      "source": [
        "import numpy as np\n",
        "import scipy as sp\n",
        "import pymc3 as pm\n",
        "import pandas as pd\n",
        "import matplotlib.pyplot as plt\n",
        "import seaborn as sns\n",
        "import theano.tensor as tt\n",
        "import scipy.stats as stats\n",
        "import arviz as az\n",
        "from google.colab import files\n",
        "\n",
        "print('Running on PyMC3 v{}'.format(pm.__version__))\n",
        "print('Running on ArviZ v{}'.format(az.__version__))"
      ],
      "execution_count": null,
      "outputs": [
        {
          "output_type": "stream",
          "text": [
            "Running on PyMC3 v3.8\n",
            "Running on ArviZ v0.6.1\n"
          ],
          "name": "stdout"
        }
      ]
    },
    {
      "cell_type": "markdown",
      "metadata": {
        "id": "dZXkvaap8fER"
      },
      "source": [
        "## Metamodel containing all surrogate models and their coupling"
      ]
    },
    {
      "cell_type": "code",
      "metadata": {
        "colab": {
          "resources": {
            "http://localhost:8080/nbextensions/google.colab/files.js": {
              "data": "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",
              "ok": true,
              "headers": [
                [
                  "content-type",
                  "application/javascript"
                ]
              ],
              "status": 200,
              "status_text": ""
            }
          },
          "base_uri": "https://localhost:8080/",
          "height": 73
        },
        "id": "ZB-Aq3VwGE0W",
        "outputId": "41c790ca-6b3c-4b79-9ab9-4663dc08832e"
      },
      "source": [
        "uploaded = files.upload() \n",
        "# C:\\Users\\yairn\\Downloads\\trace1_summary.csv\n",
        "\n"
      ],
      "execution_count": null,
      "outputs": [
        {
          "output_type": "display_data",
          "data": {
            "text/html": [
              "\n",
              "     <input type=\"file\" id=\"files-39f5c127-561f-44b1-a0b1-414c76636cdf\" name=\"files[]\" multiple disabled\n",
              "        style=\"border:none\" />\n",
              "     <output id=\"result-39f5c127-561f-44b1-a0b1-414c76636cdf\">\n",
              "      Upload widget is only available when the cell has been executed in the\n",
              "      current browser session. Please rerun this cell to enable.\n",
              "      </output>\n",
              "      <script src=\"/nbextensions/google.colab/files.js\"></script> "
            ],
            "text/plain": [
              "<IPython.core.display.HTML object>"
            ]
          },
          "metadata": {
            "tags": []
          }
        },
        {
          "output_type": "stream",
          "text": [
            "Saving trace1_summary to trace1_summary\n"
          ],
          "name": "stdout"
        }
      ]
    },
    {
      "cell_type": "code",
      "metadata": {
        "colab": {
          "base_uri": "https://localhost:8080/"
        },
        "id": "WtPnBNklcQUa",
        "outputId": "610bf8d0-e6c5-4241-b2b2-6dab1dfe8c94"
      },
      "source": [
        "# !ls"
      ],
      "execution_count": null,
      "outputs": [
        {
          "output_type": "execute_result",
          "data": {
            "text/plain": [
              "b'\\x80\\x04\\x95\\xe0\\t\\x00\\x00\\x00\\x00\\x00\\x00\\x8c\\x11pandas.core.frame\\x94\\x8c\\tDataFrame\\x94\\x93\\x94)\\x81\\x94}\\x94(\\x8c\\x04_mgr\\x94\\x8c\\x1epandas.core.internals.managers\\x94\\x8c\\x0cBlockManager\\x94\\x93\\x94)\\x81\\x94(]\\x94(\\x8c\\x18pandas.core.indexes.base\\x94\\x8c\\n_new_Index\\x94\\x93\\x94h\\x0b\\x8c\\x05Index\\x94\\x93\\x94}\\x94(\\x8c\\x04data\\x94\\x8c\\x15numpy.core.multiarray\\x94\\x8c\\x0c_reconstruct\\x94\\x93\\x94\\x8c\\x05numpy\\x94\\x8c\\x07ndarray\\x94\\x93\\x94K\\x00\\x85\\x94C\\x01b\\x94\\x87\\x94R\\x94(K\\x01K\\x0b\\x85\\x94h\\x15\\x8c\\x05dtype\\x94\\x93\\x94\\x8c\\x02O8\\x94\\x89\\x88\\x87\\x94R\\x94(K\\x03\\x8c\\x01|\\x94NNNJ\\xff\\xff\\xff\\xffJ\\xff\\xff\\xff\\xffK?t\\x94b\\x89]\\x94(\\x8c\\x04mean\\x94\\x8c\\x02sd\\x94\\x8c\\x06hpd_3%\\x94\\x8c\\x07hpd_97%\\x94\\x8c\\tmcse_mean\\x94\\x8c\\x07mcse_sd\\x94\\x8c\\x08ess_mean\\x94\\x8c\\x06ess_sd\\x94\\x8c\\x08ess_bulk\\x94\\x8c\\x08ess_tail\\x94\\x8c\\x05r_hat\\x94et\\x94b\\x8c\\x04name\\x94Nu\\x86\\x94R\\x94h\\rh\\x0f}\\x94(h\\x11h\\x14h\\x17K\\x00\\x85\\x94h\\x19\\x87\\x94R\\x94(K\\x01K\\x10\\x85\\x94h!\\x89]\\x94(\\x8c\\x16rv_intercept_wTCR_KS01\\x94\\x8c\\x17rv_intercept_wCD45_KS01\\x94\\x8c\\x14rv_center_t_dep_KS01\\x94\\x8c\\x14rv_center_k_dep_KS01\\x94\\x8c\\x14rv_sigRatio_dep_KS01\\x94\\x8c\\x14rv_slope_t_wTCR_KS01\\x94\\x8c\\x14rv_slope_k_wTCR_KS01\\x94\\x8c\\x12rv_noise_wTCR_KS01\\x94\\x8c\\x15rv_slope_t_wCD45_KS01\\x94\\x8c\\x15rv_slope_k_wCD45_KS01\\x94\\x8c\\x13rv_noise_wCD45_KS01\\x94\\x8c\\x15rv_divisor_t_dep_KS01\\x94\\x8c\\x15rv_divisor_k_dep_KS01\\x94\\x8c\\x0frv_min_dep_KS01\\x94\\x8c\\x0frv_max_dep_KS01\\x94\\x8c\\x11rv_noise_dep_KS01\\x94et\\x94bh1Nu\\x86\\x94R\\x94e]\\x94h\\x14h\\x17K\\x00\\x85\\x94h\\x19\\x87\\x94R\\x94(K\\x01K\\x0bK\\x10\\x86\\x94h\\x1e\\x8c\\x02f8\\x94\\x89\\x88\\x87\\x94R\\x94(K\\x03\\x8c\\x01<\\x94NNNJ\\xff\\xff\\xff\\xffJ\\xff\\xff\\xff\\xffK\\x00t\\x94b\\x89B\\x80\\x05\\x00\\x00w\\xbe\\x9f\\x1a/\\'x@\\x9a\\x99\\x99\\x99\\x99\\xadu@\\xc3\\xf5(\\\\\\x8fB>@{\\x14\\xaeG\\xe1\\xba+\\xc0/\\xdd$\\x06\\x81\\x95\\xe3?B`\\xe5\\xd0\"\\xdb\\xb9?\\xfc\\xa9\\xf1\\xd2Mb\\x90?\\xc9v\\xbe\\x9f\\x1a\\xcf4@\\x08\\xac\\x1cZd;\\xbf?F\\xb6\\xf3\\xfd\\xd4x\\xd1?%\\x06\\x81\\x95C\\xfbm@\\xbaI\\x0c\\x02+g=@^\\xbaI\\x0c\\x02\\xab4@\\xd9\\xce\\xf7S\\xe3\\x95S\\xc0F\\xb6\\xf3\\xfd\\xd4\\x0cd@y\\xe9&1\\x08\\x0cC@\\xc3\\xf5(\\\\\\x8f\\xc2\\x0f@\\x0e-\\xb2\\x9d\\xef\\';@\\xdb\\xf9~j\\xbc\\xf4#@y\\xe9&1\\x08l!@\\xd5x\\xe9&1\\x08\\xf0?\\xb8\\x1e\\x85\\xebQ\\xb8\\xae?\\xfc\\xa9\\xf1\\xd2Mb\\x90?\\xcf\\xf7S\\xe3\\xa5\\x9b\\xf8?\\xc1\\xca\\xa1E\\xb6\\xf3\\xbd?`\\xe5\\xd0\"\\xdb\\xf9\\xce?\\\\\\x8f\\xc2\\xf5(\\xdc,@\\xcf\\xf7S\\xe3\\xa5\\xdb#@w\\xbe\\x9f\\x1a/\\xdd\\x16@\\x7fj\\xbct\\x93\\x184@P\\x8d\\x97n\\x12\\x03\\x19@\\x08\\xac\\x1cZd;\\x06@\\x89A`\\xe5\\xd0\\xb2w@\\x9a\\x99\\x99\\x99\\x99or@\\xf4\\xfd\\xd4x\\xe9&&@}?5^\\xbaI>\\xc0\\xa4p=\\n\\xd7\\xa3\\xf4\\xbf\\x00\\x00\\x00\\x00\\x00\\x00\\x00\\x00\\x00\\x00\\x00\\x00\\x00\\x00\\x00\\x00J\\x0c\\x02+\\x87\\xf61@\\x00\\x00\\x00\\x00\\x00\\x00\\x00\\x00\\x00\\x00\\x00\\x00\\x00\\x00\\x00\\x00h\\x91\\xed|?\\x8dj@P\\x8d\\x97n\\x12\\xc3(@\\xa8\\xc6K7\\x89\\xc1$@F\\xb6\\xf3\\xfd\\xd4\\xb0\\\\\\xc0\\x06\\x81\\x95C\\x8b\\xa0b@sh\\x91\\xed|\\x7f@@Nb\\x10X9\\x9cx@\\x8f\\xc2\\xf5(\\\\\\xcbx@\\x14\\xaeG\\xe1z\\x84H@\\xaa\\xf1\\xd2Mb\\x10\\xf2?#\\xdb\\xf9~j\\xbc\\x03@\\x9a\\x99\\x99\\x99\\x99\\x99\\xc9?Zd;\\xdfO\\x8d\\xa7?w\\xbe\\x9f\\x1a/\\x9d7@u\\x93\\x18\\x04V\\x0e\\xd5?^\\xbaI\\x0c\\x02+\\xe7?\\xb2\\x9d\\xef\\xa7\\xc6\\x9fp@\\xd3Mb\\x10X\\xb9H@\\xf2\\xd2Mb\\x10X?@\\x89A`\\xe5\\xd0bC\\xc0\\xe3\\xa5\\x9b\\xc4 \\x84e@H\\xe1z\\x14\\xae\\xb7E@\\xfc\\xa9\\xf1\\xd2Mb\\xb0?\\xe3\\xa5\\x9b\\xc4 \\xb0\\xd2?\\xa2E\\xb6\\xf3\\xfd\\xd4\\xb8??5^\\xbaI\\x0c\\xc2?{\\x14\\xaeG\\xe1z\\x84?\\xfc\\xa9\\xf1\\xd2MbP?\\x00\\x00\\x00\\x00\\x00\\x00\\x00\\x00\\xfc\\xa9\\xf1\\xd2Mb\\x90?\\xfc\\xa9\\xf1\\xd2MbP?\\xfa~j\\xbct\\x93h?\\xf4\\xfd\\xd4x\\xe9&\\xc1?\\x0e-\\xb2\\x9d\\xef\\xa7\\xc6?\\x02+\\x87\\x16\\xd9\\xce\\xb7?h\\x91\\xed|?5\\xce?;\\xdfO\\x8d\\x97n\\xb2?\\x19\\x04V\\x0e-\\xb2\\x9d?\\n\\xd7\\xa3p=\\n\\xa7?\\x91\\xed|?5^\\xca?\\x93\\x18\\x04V\\x0e-\\xb2?\\xe1z\\x14\\xaeG\\xe1\\xba?{\\x14\\xaeG\\xe1z\\x84?\\xfc\\xa9\\xf1\\xd2MbP?\\x00\\x00\\x00\\x00\\x00\\x00\\x00\\x00\\xbaI\\x0c\\x02+\\x87\\x86?\\xfc\\xa9\\xf1\\xd2MbP?\\xfc\\xa9\\xf1\\xd2Mb`?\\xfa~j\\xbct\\x93\\xb8?\\x00\\x00\\x00\\x00\\x00\\x00\\xc0?\\xf4\\xfd\\xd4x\\xe9&\\xb1?\\xc7K7\\x89A`\\xc5?\\xe9&1\\x08\\xac\\x1c\\xaa?\\x1b/\\xdd$\\x06\\x81\\x95?\\x00\\x00\\x00\\x00\\x00l\\xae@\\x00\\x00\\x00\\x00\\x00\\xf0\\xc0@\\x00\\x00\\x00\\x00\\x80\\xa2\\xc4@\\x00\\x00\\x00\\x00\\x00\\xfa\\xad@\\x00\\x00\\x00\\x00\\x00\\x8a\\xc5@\\x00\\x00\\x00\\x00\\x00\"\\xac@\\x00\\x00\\x00\\x00\\x80\\xc4\\xc4@\\x00\\x00\\x00\\x00\\x80\\x9e\\xc2@\\x00\\x00\\x00\\x00\\x80C\\xc3@\\x00\\x00\\x00\\x00\\x00l\\xbb@\\x00\\x00\\x00\\x00\\x00\\x85\\xc6@\\x00\\x00\\x00\\x00\\x00\\x8c\\xa8@\\x00\\x00\\x00\\x00\\x00x\\xad@\\x00\\x00\\x00\\x00\\x00F\\xbc@\\x00\\x00\\x00\\x00\\x00)\\xbd@\\x00\\x00\\x00\\x00\\x80\\xf2\\xc1@\\x00\\x00\\x00\\x00\\x00d\\xae@\\x00\\x00\\x00\\x00\\x00\\xf0\\xc0@\\x00\\x00\\x00\\x00\\x80*\\xc3@\\x00\\x00\\x00\\x00\\x00\\xb6\\xaa@\\x00\\x00\\x00\\x00\\x00\\x04\\xb3@\\x00\\x00\\x00\\x00\\x00\"\\xac@\\x00\\x00\\x00\\x00\\x00a\\xbf@\\x00\\x00\\x00\\x00\\x00\\'\\xc2@\\x00\\x00\\x00\\x00\\x80\\x1b\\xc1@\\x00\\x00\\x00\\x00\\x00l\\xbb@\\x00\\x00\\x00\\x00\\x80\\x05\\xc6@\\x00\\x00\\x00\\x00\\x00\\x8c\\xa8@\\x00\\x00\\x00\\x00\\x00\\x94\\xac@\\x00\\x00\\x00\\x00\\x00F\\xbc@\\x00\\x00\\x00\\x00\\x00\\xff\\xbc@\\x00\\x00\\x00\\x00\\x00~\\xc1@\\x00\\x00\\x00\\x00\\x00\\x18\\xae@\\x00\\x00\\x00\\x00\\x80\\x13\\xc1@\\x00\\x00\\x00\\x00\\x80\\x9b\\xc4@\\x00\\x00\\x00\\x00\\x00\\\\\\xaf@\\x00\\x00\\x00\\x00\\x00\\x83\\xc5@\\x00\\x00\\x00\\x00\\x00\\xd6\\xa7@\\x00\\x00\\x00\\x00\\x00I\\xbf@\\x00\\x00\\x00\\x00\\x80\\x01\\xc3@\\x00\\x00\\x00\\x00\\x00p\\xb8@\\x00\\x00\\x00\\x00\\x00\\'\\xb4@\\x00\\x00\\x00\\x00\\x80\\xe2\\xc6@\\x00\\x00\\x00\\x00\\x00\\xda\\xa8@\\x00\\x00\\x00\\x00\\x00\\x04\\xae@\\x00\\x00\\x00\\x00\\x00\\x1d\\xbd@\\x00\\x00\\x00\\x00\\x00c\\xbd@\\x00\\x00\\x00\\x00\\x00n\\xc2@\\x00\\x00\\x00\\x00\\x00\\x87\\xb4@\\x00\\x00\\x00\\x00\\x00Q\\xb8@\\x00\\x00\\x00\\x00\\x00\\xc8\\xb7@\\x00\\x00\\x00\\x00\\x00\\n\\xaf@\\x00\\x00\\x00\\x00\\x00\\xb9\\xb8@\\x00\\x00\\x00\\x00\\x00\\xa2\\xa0@\\x00\\x00\\x00\\x00\\x00Q\\xb0@\\x00\\x00\\x00\\x00\\x00\\xac\\xb6@\\x00\\x00\\x00\\x00\\x00 \\xac@\\x00\\x00\\x00\\x00\\x00\\x9c\\xae@\\x00\\x00\\x00\\x00\\x00\\xa8\\xb7@\\x00\\x00\\x00\\x00\\x00\\x98\\x96@\\x00\\x00\\x00\\x00\\x00\\xad\\xb3@\\x00\\x00\\x00\\x00\\x00\\xe0\\xaa@\\x00\\x00\\x00\\x00\\x00%\\xb7@\\x00\\x00\\x00\\x00\\x00\\xfe\\xb7@\\x00\\x00\\x00\\x00\\x00\\x00\\xf0?\\x00\\x00\\x00\\x00\\x00\\x00\\xf0?\\x00\\x00\\x00\\x00\\x00\\x00\\xf0?\\x00\\x00\\x00\\x00\\x00\\x00\\xf0?\\x00\\x00\\x00\\x00\\x00\\x00\\xf0?\\x00\\x00\\x00\\x00\\x00\\x00\\xf0?\\x00\\x00\\x00\\x00\\x00\\x00\\xf0?\\x00\\x00\\x00\\x00\\x00\\x00\\xf0?\\x00\\x00\\x00\\x00\\x00\\x00\\xf0?\\x00\\x00\\x00\\x00\\x00\\x00\\xf0?\\x00\\x00\\x00\\x00\\x00\\x00\\xf0?\\x00\\x00\\x00\\x00\\x00\\x00\\xf0?\\x00\\x00\\x00\\x00\\x00\\x00\\xf0?\\x00\\x00\\x00\\x00\\x00\\x00\\xf0?\\x00\\x00\\x00\\x00\\x00\\x00\\xf0?\\x00\\x00\\x00\\x00\\x00\\x00\\xf0?\\x94t\\x94ba]\\x94h\\rh\\x0f}\\x94(h\\x11h\\x14h\\x17K\\x00\\x85\\x94h\\x19\\x87\\x94R\\x94(K\\x01K\\x0b\\x85\\x94h!\\x89]\\x94(h%h&h\\'h(h)h*h+h,h-h.h/et\\x94bh1Nu\\x86\\x94R\\x94a}\\x94\\x8c\\x060.14.1\\x94}\\x94(\\x8c\\x04axes\\x94h\\n\\x8c\\x06blocks\\x94]\\x94}\\x94(\\x8c\\x06values\\x94hP\\x8c\\x08mgr_locs\\x94\\x8c\\x08builtins\\x94\\x8c\\x05slice\\x94\\x93\\x94K\\x00K\\x0bK\\x01\\x87\\x94R\\x94uaust\\x94b\\x8c\\x04_typ\\x94\\x8c\\tdataframe\\x94\\x8c\\t_metadata\\x94]\\x94\\x8c\\x05attrs\\x94}\\x94ub.'"
            ]
          },
          "metadata": {
            "tags": []
          },
          "execution_count": 14
        }
      ]
    },
    {
      "cell_type": "code",
      "metadata": {
        "colab": {
          "base_uri": "https://localhost:8080/"
        },
        "id": "h4iDfveZYiar",
        "outputId": "4808eebb-e7b7-4a84-efb6-375d7cd35d2e"
      },
      "source": [
        "uploaded_trace1_summary = pd.read_pickle('trace1_summary')\n",
        "print(uploaded_trace1_summary)\n"
      ],
      "execution_count": null,
      "outputs": [
        {
          "output_type": "stream",
          "text": [
            "                            mean      sd   hpd_3%  ...  ess_bulk  ess_tail  r_hat\n",
            "rv_intercept_wTCR_KS01   386.449   3.970  379.176  ...    3852.0    5255.0    1.0\n",
            "rv_intercept_wCD45_KS01  346.850  27.156  294.975  ...    8743.0    6225.0    1.0\n",
            "rv_center_t_dep_KS01      30.260   9.978   11.076  ...   10551.0    6088.0    1.0\n",
            "rv_center_k_dep_KS01     -13.865   8.711  -30.288  ...    4014.0    3973.0    1.0\n",
            "rv_sigRatio_dep_KS01       0.612   1.002   -1.290  ...   11014.0    6329.0    1.0\n",
            "rv_slope_t_wTCR_KS01       0.101   0.060    0.000  ...    3051.0    2129.0    1.0\n",
            "rv_slope_k_wTCR_KS01       0.016   0.016    0.000  ...    8009.0    4177.0    1.0\n",
            "rv_noise_wTCR_KS01        20.809   1.538   17.963  ...    9731.0    5804.0    1.0\n",
            "rv_slope_t_wCD45_KS01      0.122   0.117    0.000  ...    6256.0    3600.0    1.0\n",
            "rv_slope_k_wCD45_KS01      0.273   0.242    0.000  ...    5159.0    3918.0    1.0\n",
            "rv_noise_wCD45_KS01      239.852  14.430  212.414  ...   11717.0    6056.0    1.0\n",
            "rv_divisor_t_dep_KS01     29.403   9.929   12.381  ...    3181.0    1446.0    1.0\n",
            "rv_divisor_k_dep_KS01     20.668   5.716   10.378  ...    3842.0    5037.0    1.0\n",
            "rv_min_dep_KS01          -78.342  20.096 -114.763  ...    7453.0    3440.0    1.0\n",
            "rv_max_dep_KS01          160.401   6.253  149.017  ...    7523.0    5925.0    1.0\n",
            "rv_noise_dep_KS01         38.094   2.779   32.996  ...    9436.0    6142.0    1.0\n",
            "\n",
            "[16 rows x 11 columns]\n"
          ],
          "name": "stdout"
        }
      ]
    },
    {
      "cell_type": "code",
      "metadata": {
        "colab": {
          "base_uri": "https://localhost:8080/"
        },
        "id": "Bnyr45GAv1B1",
        "outputId": "baf8fc48-db72-4ace-a2bc-b287869f35a0"
      },
      "source": [
        "# Model 1 constants: ##########################\n",
        "# wTCR:\n",
        "# for row_ind \n",
        "\n",
        "model1_rv_names = uploaded_trace1_summary.index[:]\n",
        "print(model1_rv_names.shape)\n",
        "### mean:\n",
        "for model1_rv_name in model1_rv_names:\n",
        "    # print(model1_rv_name)\n",
        "    mean_model1_rv_name = 'mean_' + model1_rv_name\n",
        "    std_model1_rv_name = 'std_' + model1_rv_name\n",
        "\n",
        "    mean_model1_rv_name = uploaded_trace1_summary.loc[model1_rv_name,'mean']\n",
        "    std_model1_rv_name = uploaded_trace1_summary.loc[model1_rv_name,'sd']\n",
        "    print(std_model1_rv_name)"
      ],
      "execution_count": null,
      "outputs": [
        {
          "output_type": "stream",
          "text": [
            "(16,)\n",
            "3.97\n",
            "27.156\n",
            "9.978\n",
            "8.711\n",
            "1.002\n",
            "0.06\n",
            "0.016\n",
            "1.538\n",
            "0.117\n",
            "0.242\n",
            "14.43\n",
            "9.929\n",
            "5.716\n",
            "20.096\n",
            "6.253\n",
            "2.779\n"
          ],
          "name": "stdout"
        }
      ]
    },
    {
      "cell_type": "code",
      "metadata": {
        "colab": {
          "base_uri": "https://localhost:8080/",
          "height": 195
        },
        "id": "8nxEQOlez51Q",
        "outputId": "41036086-35f9-4177-cda3-b656b4e7dfdb"
      },
      "source": [
        "print(mean_rv_intercept_wTCR_KS01)\n",
        "print(std_rv_intercept_wTCR_KS01)"
      ],
      "execution_count": null,
      "outputs": [
        {
          "output_type": "stream",
          "text": [
            "386.36\n"
          ],
          "name": "stdout"
        },
        {
          "output_type": "error",
          "ename": "NameError",
          "evalue": "ignored",
          "traceback": [
            "\u001b[0;31m---------------------------------------------------------------------------\u001b[0m",
            "\u001b[0;31mNameError\u001b[0m                                 Traceback (most recent call last)",
            "\u001b[0;32m<ipython-input-38-d915c740c554>\u001b[0m in \u001b[0;36m<module>\u001b[0;34m()\u001b[0m\n\u001b[1;32m      1\u001b[0m \u001b[0mprint\u001b[0m\u001b[0;34m(\u001b[0m\u001b[0mmean_rv_intercept_wTCR_KS01\u001b[0m\u001b[0;34m)\u001b[0m\u001b[0;34m\u001b[0m\u001b[0;34m\u001b[0m\u001b[0m\n\u001b[0;32m----> 2\u001b[0;31m \u001b[0mprint\u001b[0m\u001b[0;34m(\u001b[0m\u001b[0mstd_rv_intercept_wTCR_KS01\u001b[0m\u001b[0;34m)\u001b[0m\u001b[0;34m\u001b[0m\u001b[0;34m\u001b[0m\u001b[0m\n\u001b[0m",
            "\u001b[0;31mNameError\u001b[0m: name 'std_rv_intercept_wTCR_KS01' is not defined"
          ]
        }
      ]
    },
    {
      "cell_type": "code",
      "metadata": {
        "colab": {
          "base_uri": "https://localhost:8080/"
        },
        "id": "stEWYoIBm-ro",
        "outputId": "dcf4d3e3-f728-4832-c36e-fa33e6aa0b60"
      },
      "source": [
        "\n",
        "\n",
        "\n",
        "\n",
        "\n",
        "\n",
        "\n",
        "\n",
        "\n",
        "\n",
        "\n",
        "\n",
        "\n",
        "\n",
        "\n",
        "\n",
        "\n",
        "\n",
        "\n",
        "# intercept with origin:\n",
        "mean_rv_intercept_wTCR_KS01 = 386.360\n",
        "sd_rv_intercept_wTCR_KS01 = 4.043\n",
        "# surface t slope:\n",
        "mu_rv_slope_t_wTCR_KS01 = 0.102\n",
        "sd_rv_slope_t_wTCR_KS01 = 0.060\n",
        "# surface k slope:\n",
        "mu_rv_slope_k_wTCR_KS01 = 0.016\n",
        "sd_rv_slope_k_wTCR_KS01 = 0.016\n",
        "# noise:\n",
        "mu_rv_noise_wTCR_KS01 = 20.782\n",
        "sd_rv_noise_wTCR_KS01 = 1.529\n",
        "\n",
        "# wCD45:\n",
        "# intercept with origin:\n",
        "mu_rv_intercept_wCD45_KS01 = 347.252\t\n",
        "sd_rv_intercept_w_CD45_KS01= 27.409\n",
        "# surface t slope:\n",
        "mu_rv_slope_t_wCD45_KS01 = 0.124\n",
        "sd_rv_slope_t_wCD45_KS01 = 0.118\n",
        "# surface k slope:\n",
        "mu_rv_slope_k_wCD45_KS01 = 0.270\n",
        "sd_rv_slope_k_wCD45_KS01 = 0.243\n",
        "# noise:\n",
        "mu_rv_noise_wCD45_KS01 = 239.808\t\n",
        "sd_rv_noise_wCD45_KS01 = 14.057\n",
        "\n",
        "# dep_sig:\n",
        "# k sig center:\n",
        "mu_rv_center_k_dep_KS01 = -13.840\t\n",
        "sd_rv_center_k_dep_KS01 = 8.749\t\n",
        "# t sig center:\n",
        "mu_rv_center_t_dep_KS01 = 30.207\n",
        "sd_rv_center_t_dep_KS01 = 10.121\n",
        "# k sig devisor:\t\n",
        "mu_rv_divisor_k_dep_KS01 = 20.770\n",
        "sd_rv_divisor_k_dep_KS01 = 5.734\n",
        "# t sig devisor:\t\n",
        "mu_rv_divisor_t_dep_KS01 = 29.278\n",
        "sd_rv_divisor_t_dep_KS01 = 10.236\t\n",
        "# sig ratio:\n",
        "mu_rv_sigRatio_dep_KS01 = 0.619\n",
        "sd_rv_sigRatio_dep_KS01 = 0.992\n",
        "# sig min:\t\n",
        "mu_rv_min_dep_KS01 = -78.410\n",
        "sd_rv_min_dep_KS01 = 19.323\n",
        "# sig max:\n",
        "mu_rv_max_dep_KS01 = 160.502\n",
        "sd_rv_max_dep_KS01 = 6.326\n",
        "# noise:\n",
        "mu_rv_noise_dep_KS01 = 38.172\n",
        "sd_rv_noise_dep_KS01 = 2.807\n"
      ],
      "execution_count": null,
      "outputs": [
        {
          "output_type": "stream",
          "text": [
            "Index(['rv_intercept_wTCR_KS01', 'rv_intercept_wCD45_KS01',\n",
            "       'rv_center_t_dep_KS01', 'rv_center_k_dep_KS01', 'rv_sigRatio_dep_KS01',\n",
            "       'rv_slope_t_wTCR_KS01', 'rv_slope_k_wTCR_KS01', 'rv_noise_wTCR_KS01',\n",
            "       'rv_slope_t_wCD45_KS01', 'rv_slope_k_wCD45_KS01', 'rv_noise_wCD45_KS01',\n",
            "       'rv_divisor_t_dep_KS01', 'rv_divisor_k_dep_KS01', 'rv_min_dep_KS01',\n",
            "       'rv_max_dep_KS01', 'rv_noise_dep_KS01'],\n",
            "      dtype='object')\n"
          ],
          "name": "stdout"
        }
      ]
    },
    {
      "cell_type": "markdown",
      "metadata": {
        "id": "wV81wtBoneDa"
      },
      "source": [
        "### Abbreviations:\n",
        "ac - slope of 'c' (e.g. at for slope of t)"
      ]
    },
    {
      "cell_type": "code",
      "metadata": {
        "id": "aJ4flFPc7viJ"
      },
      "source": [
        "# Model 1 constants: ##########################\n",
        "# wTCR:\n",
        "# intercept with origin:\n",
        "mu_rv_intercept_wTCR_KS01 = 386.360\n",
        "sd_rv_intercept_wTCR_KS01 = 4.043\n",
        "# surface t slope:\n",
        "mu_rv_slope_t_wTCR_KS01 = 0.102\n",
        "sd_rv_slope_t_wTCR_KS01 = 0.060\n",
        "# surface k slope:\n",
        "mu_rv_slope_k_wTCR_KS01 = 0.016\n",
        "sd_rv_slope_k_wTCR_KS01 = 0.016\n",
        "# noise:\n",
        "mu_rv_noise_wTCR_KS01 = 20.782\n",
        "sd_rv_noise_wTCR_KS01 = 1.529\n",
        "\n",
        "# wCD45:\n",
        "# intercept with origin:\n",
        "mu_rv_intercept_wCD45_KS01 = 347.252\t\n",
        "sd_rv_intercept_w_CD45_KS01= 27.409\n",
        "# surface t slope:\n",
        "mu_rv_slope_t_wCD45_KS01 = 0.124\n",
        "sd_rv_slope_t_wCD45_KS01 = 0.118\n",
        "# surface k slope:\n",
        "mu_rv_slope_k_wCD45_KS01 = 0.270\n",
        "sd_rv_slope_k_wCD45_KS01 = 0.243\n",
        "# noise:\n",
        "mu_rv_noise_wCD45_KS01 = 239.808\t\n",
        "sd_rv_noise_wCD45_KS01 = 14.057\n",
        "\n",
        "# dep:\n",
        "# intercept with origin:\n",
        "mu_rv_b_dep_KS1 = 44.085\n",
        "sd_rv_b_dep_KS1 = 4.107\n",
        "# surface t slope:\n",
        "mu_rv_at_dep_KS1 = 1.240\t\n",
        "sd_rv_at_dep_KS1 = 0.049\n",
        "# surface k slope:\n",
        "mu_rv_ak_dep_KS1 = 0.622\t\n",
        "sd_rv_ak_dep_KS1 = 0.049\n",
        "# noise:\n",
        "mu_rv_noise_dep_KS1 = 13.843\t\n",
        "sd_rv_noise_dep_KS1 = 1.032\t\n",
        "\n",
        "# dep_sig:\n",
        "# k sig center:\n",
        "mu_rv_center_k_dep_KS01 = -13.840\t\n",
        "sd_rv_center_k_dep_KS01 = 8.749\t\n",
        "# t sig center:\n",
        "mu_rv_center_t_dep_KS01 = 30.207\n",
        "sd_rv_center_t_dep_KS01 = 10.121\n",
        "# k sig devisor:\t\n",
        "mu_rv_divisor_k_dep_KS01 = 20.770\n",
        "sd_rv_divisor_k_dep_KS01 = 5.734\n",
        "# t sig devisor:\t\n",
        "mu_rv_divisor_t_dep_KS01 = 29.278\n",
        "sd_rv_divisor_t_dep_KS01 = 10.236\t\n",
        "# sig ratio:\n",
        "mu_rv_sigRatio_dep_KS01 = 0.619\n",
        "sd_rv_sigRatio_dep_KS01 = 0.992\n",
        "# sig min:\t\n",
        "mu_rv_min_dep_KS01 = -78.410\n",
        "sd_rv_min_dep_KS01 = 19.323\n",
        "# sig max:\n",
        "mu_rv_max_dep_KS01 = 160.502\n",
        "sd_rv_max_dep_KS01 = 6.326\n",
        "# noise:\n",
        "mu_rv_noise_dep_KS01 = 38.172\n",
        "sd_rv_noise_dep_KS01 = 2.807\n",
        "\n",
        "# Model 2 constants: ##########################\n",
        "# lambda (nm)\n",
        "# sigmoid center Diff:\n",
        "mu_rv_center_logDiff_lambdaALCK_LA02 = -2.577\n",
        "sd_rv_center_logDiff_lambdaALCK_LA02 = 0.472\n",
        "# sigmoid center Poff:\n",
        "mu_rv_center_logPoff_lambdaALCK_LA02 = -0.674\n",
        "sd_rv_center_logPoff_lambdaALCK_LA02 = 0.328\n",
        "# surface min:\n",
        "mu_rv_min_lambdaALCK_LA02 = 0.003\n",
        "sd_rv_min_lambdaALCK_LA02 = 0.004\n",
        "# surface max:\n",
        "mu_rv_max_lambdaALCK_LA02 = 0.492\n",
        "sd_rv_max_lambdaALCK_LA02 = 0.135\n",
        "# sigmoid devisor Diff:\n",
        "mu_rv_divisor_logDiff_lambdaALCK_LA02 = -1.162\n",
        "sd_rv_divisor_logDiff_lambdaALCK_LA02 = 0.222\n",
        "# sigmoid devisor Poff:\n",
        "mu_rv_divisor_logPoff_lambdaALCK_LA02 = 0.507\n",
        "sd_rv_divisor_logPoff_lambdaALCK_LA02 = 0.150\n",
        "# Noise\n",
        "mu_noise_lambdaALCK_LA02 = 0.055\n",
        "sd_noise_lambdaALCK_LA02 = 0.003\n",
        "\n",
        "# Model 3 constants: ##########################\n",
        "# gaussian sigma decay_length\n",
        "mu_rv_sigma_decayLength_rTCRrMean_TP03 = 61.496\n",
        "sd_rv_sigma_decayLength_rTCRrMean_TP03 = 4.399\n",
        "# gaussian mu decay_length\n",
        "mu_rv_mu_decayLength_rTCRrMean_TP03 = -21.977\n",
        "sd_rv_mu_decayLength_rTCRrMean_TP03 = 6.779\n",
        "# gaussian scale decay_length\n",
        "mu_rv_scale_decayLength_rTCRrMean_TP03 = 1.023\n",
        "sd_rv_scale_decayLength_rTCRrMean_TP03 = 0.147\n",
        "\n",
        "\n",
        "# gaussian sigma depletion\n",
        "mu_rv_sigma_depletion_rTCRrMean_TP03 = 54.601\n",
        "sd_rv_sigma_depletion_rTCRrMean_TP03 = 5.185\n",
        "# gaussian mu depletion\n",
        "mu_rv_mu_depletion_rTCRrMean_TP03 = -15.848\n",
        "sd_rv_mu_depletion_rTCRrMean_TP03 = 7.019\n",
        "# gaussian scale depletion\n",
        "mu_rv_scale_depletion_rTCRrMean_TP03 = 1.030\n",
        "sd_rv_scale_depletion_rTCRrMean_TP03 = 0.148\n",
        "\n",
        "###############################################\n",
        "\n",
        "                         \n",
        "                         \n",
        "                         \n",
        "def get_metamodel(observed_t_KS1 = None,\n",
        "                  observed_k_KS1 = None,\n",
        "                  observed_log_Poff_LA2 = None, \n",
        "                  observed_log_Diff_LA2 = None,\n",
        "                  observed_depletion_TP3 = None,\n",
        "                  observed_decay_length_TP3 = None):\n",
        "    \n",
        "    ''' return a metamodel with all surrogate models '''\n",
        "    metamodel = pm.Model()\n",
        "    with metamodel:\n",
        "        ### model1 - KS (kinetic segregation) ###########################    \n",
        "        # param_t = pm.Uniform('param_t', 0, 100, observed=observed_t_KS1)\n",
        "        # param_k = pm.Uniform('param_k', 0, 100, observed=observed_k_KS1)\n",
        "        rv_t = pm.Uniform('rv_t', 0, 100, observed=observed_t_KS1)\n",
        "        rv_k = pm.Uniform('rv_k', 0, 100, observed=observed_k_KS1)\n",
        "\n",
        "        \"\"\"\n",
        "        # w_TCR_KS1 ###########\n",
        "        rv_at_w_TCR_KS1 = pm.HalfNormal('rv_at_w_TCR_KS1',\n",
        "                                         sd = mu_rv_at_w_TCR_KS1) # surface t slope\n",
        "        rv_ak_w_TCR_KS1 = pm.HalfNormal('rv_ak_w_TCR_KS1', \n",
        "                                         sd = mu_rv_ak_w_TCR_KS1) # surface k slope\n",
        "        rv_b_w_TCR_KS1 = pm.Normal('rv_b_w_TCR_KS1', \n",
        "                                    mu = mu_rv_b_w_TCR_KS1, \n",
        "                                    sd = sd_rv_b_w_TCR_KS1) # surface intercept\n",
        "        rv_noise_w_TCR_KS1 = pm.HalfNormal('rv_noise_w_TCR_KS1', \n",
        "                                            sd = mu_rv_noise_w_TCR_KS1) # noise \n",
        "        rv_w_TCR_KS1 = pm.Normal('rv_w_TCR_KS1',\n",
        "                                  mu = rv_b_w_TCR_KS1 +\\\n",
        "                                  rv_at_w_TCR_KS1*rv_t + rv_ak_w_TCR_KS1*rv_k,\n",
        "                                  sd = rv_noise_w_TCR_KS1) #\n",
        "\n",
        "        # w_CD45_KS1 ###########\n",
        "        rv_at_w_CD45_KS1 = pm.HalfNormal('rv_at_w_CD45_KS1',\n",
        "                                         sd = mu_rv_at_w_CD45_KS1) # surface t slope\n",
        "        rv_ak_w_CD45_KS1 = pm.HalfNormal('rv_ak_w_CD45_KS1', \n",
        "                                         sd = mu_rv_ak_w_CD45_KS1) # surface k slope\n",
        "        rv_b_w_CD45_KS1 = pm.Normal('rv_b_w_CD45_KS1', \n",
        "                                    mu = mu_rv_b_w_CD45_KS1, \n",
        "                                    sd = sd_rv_b_w_CD45_KS1) # surface intercept\n",
        "        rv_noise_w_CD45_KS1 = pm.HalfNormal('rv_noise_w_CD45_KS1', \n",
        "                                            sd = mu_rv_noise_w_CD45_KS1) # noise \n",
        "        rv_w_CD45_KS1 = pm.Normal('rv_w_CD45_KS1',\n",
        "                                  mu = rv_b_w_CD45_KS1 +\\\n",
        "                                  rv_at_w_CD45_KS1*rv_t + rv_ak_w_CD45_KS1*rv_k,\n",
        "                                  sd = rv_noise_w_CD45_KS1) #\n",
        "        \"\"\"\n",
        "        # dep_KS1 ###########\n",
        "        \"\"\"\n",
        "        rv_at_dep_KS1 = pm.HalfNormal('rv_at_dep_KS1',\n",
        "                                         sd = mu_rv_at_dep_KS1) # surface t slope\n",
        "        rv_ak_dep_KS1 = pm.HalfNormal('rv_ak_dep_KS1', \n",
        "                                         sd = mu_rv_ak_dep_KS1) # surface k slope\n",
        "        rv_b_dep_KS1 = pm.Normal('rv_b_dep_KS1', \n",
        "                                    mu = mu_rv_b_dep_KS1, \n",
        "                                    sd = sd_rv_b_dep_KS1) # surface intercept\n",
        "        rv_noise_dep_KS1 = pm.HalfNormal('rv_noise_dep_KS1', \n",
        "                                            sd = mu_rv_noise_dep_KS1) # noise \n",
        "        rv_dep_KS1 = pm.Normal('rv_dep_KS1',\n",
        "                                  mu = rv_b_dep_KS1 +\\\n",
        "                                  rv_at_dep_KS1*rv_t + rv_ak_dep_KS1*rv_k,\n",
        "                                  sd = rv_noise_dep_KS1) #\n",
        "        \"\"\"\n",
        "        # dep_KS1_sig ########       \n",
        "        rv_noise_dep_KS1 = pm.HalfNormal('rv_noise_dep_KS1',\n",
        "                                        sd = mu_rv_noise_dep_KS1) # noise \n",
        "        rv_min_dep_KS1 = pm.TruncatedNormal('rv_min_dep_KS1',\n",
        "                                           mu = mu_rv_min_dep_KS1,\n",
        "                                           sd = sd_rv_min_dep_KS1,\n",
        "                                           upper = 0)\n",
        "        rv_max_dep_KS1 = pm.TruncatedNormal('rv_max_dep_KS1',\n",
        "                                           mu = mu_rv_max_dep_KS1,\n",
        "                                           sd = sd_rv_max_dep_KS1,\n",
        "                                           lower = 20)\n",
        "        rv_k_dep_center_KS1 = pm.Normal('rv_k_dep_center_KS1',\n",
        "                                       mu = mu_rv_k_dep_center_KS1, \n",
        "                                       sd = sd_rv_k_dep_center_KS1)\n",
        "        rv_k_dep_divisor_KS1 = pm.TruncatedNormal('rv_k_dep_divisor_KS1',\n",
        "                                                 mu = mu_rv_k_dep_divisor_KS1, \n",
        "                                                 sd = sd_rv_k_dep_divisor_KS1,\n",
        "                                                 lower = 0)\n",
        "        rv_t_dep_center_KS1 = pm.Normal('rv_t_dep_center_KS1',\n",
        "                                       mu = mu_rv_t_dep_center_KS1, \n",
        "                                       sd = sd_rv_t_dep_center_KS1)\n",
        "        rv_t_dep_divisor_KS1 = pm.TruncatedNormal('rv_t_dep_divisor_KS1',\n",
        "                                                 mu = mu_rv_t_dep_divisor_KS1,\n",
        "                                                 sd = sd_rv_t_dep_divisor_KS1,\n",
        "                                                 lower = 0)\n",
        "        rv_sig_ratio_dep_KS1 = pm.Normal('rv_sig_ratio_dep_KS1',\n",
        "                                        mu = mu_rv_sig_ratio_dep_KS1,\n",
        "                                        sd = sd_rv_sig_ratio_dep_KS1)\n",
        "\n",
        "        rv_tmp_x1 = (rv_k - rv_k_dep_center_KS1) / rv_k_dep_divisor_KS1\n",
        "        rv_tmp_sig1 = 1.0 / (1 + np.exp(-rv_tmp_x1))\n",
        "        \n",
        "        rv_tmp_x2 = (rv_t - rv_t_dep_center_KS1) / rv_t_dep_divisor_KS1\n",
        "        rv_tmp_sig2 = 1.0 / (1 + np.exp(-rv_tmp_x2))\n",
        "\n",
        "        rv_dep_KS1 = pm.Normal('rv_dep_KS1', mu=rv_min_dep_KS1 +\\\n",
        "                                  (rv_max_dep_KS1 - rv_min_dep_KS1)*\\\n",
        "                                  rv_tmp_sig1 + rv_sig_ratio_dep_KS1*rv_tmp_sig2,\n",
        "                                  sd=rv_noise_dep_KS1, observed=dep_KS_obs)\n",
        "\n",
        "\n",
        "        ### model2 - LA (LCK activation) ###########################    \n",
        "        # param_log_Diff = pm.Uniform('param_log_Diff', -3, 0, observed= observed_log_Diff_LA2)\n",
        "        # param_log_Poff = pm.Uniform('param_log_Poff', -5, 0, observed= observed_log_Poff_LA2)\n",
        "        rv_log_Diff = pm.Uniform('rv_log_Diff', -3, 0, observed= observed_log_Diff_LA2)\n",
        "        rv_log_Poff = pm.Uniform('rv_log_Poff', -5, 0, observed= observed_log_Poff_LA2)\n",
        "\n",
        "        ### lambda aLCK\n",
        "        noise_lambda_aLCK_LA2 = pm.HalfNormal('noise_lambda_aLCK_LA2',\n",
        "                                             sd = mu_noise_lambda_aLCK_LA2) # noise \n",
        "        rv_lambda_aLCK_min_LA2 = pm.TruncatedNormal('rv_lambda_aLCK_min_LA2',\n",
        "                                                   mu = mu_rv_lambda_aLCK_min_LA2,\n",
        "                                                   sd = sd_rv_lambda_aLCK_min_LA2,\n",
        "                                                   upper = 0.01)\n",
        "        rv_lambda_aLCK_max_LA2 = pm.TruncatedNormal('rv_lambda_aLCK_max_LA2',\n",
        "                                                   mu = mu_rv_lambda_aLCK_max_LA2,\n",
        "                                                   sd = sd_rv_lambda_aLCK_max_LA2,\n",
        "                                                   lower = 0.01)\n",
        "        rv_lambda_aLCK_log_Diff_center_LA2 = pm.Normal('rv_lambda_aLCK_log_Diff_center_LA2',\n",
        "                                                      mu = mu_rv_lambda_aLCK_log_Diff_center_LA2, # 0\n",
        "                                                      sd = sd_rv_lambda_aLCK_log_Diff_center_LA2) # 1\n",
        "        rv_lambda_aLCK_log_Diff_divisor_LA2 = pm.TruncatedNormal('rv_lambda_aLCK_log_Diff_divisor_LA2',\n",
        "                                                                mu = mu_rv_lambda_aLCK_log_Diff_divisor_LA2, \n",
        "                                                                sd = sd_rv_lambda_aLCK_log_Diff_divisor_LA2,\n",
        "                                                                upper = 0)\n",
        "        rv_lambda_aLCK_log_Poff_center_LA2 = pm.Normal('rv_lambda_aLCK_log_Poff_center_LA2',\n",
        "                                                       mu = mu_rv_lambda_aLCK_log_Poff_center_LA2, # -3\n",
        "                                                       sd = sd_rv_lambda_aLCK_log_Poff_center_LA2) # 0.5\n",
        "        rv_lambda_aLCK_log_Poff_divisor_LA2 = pm.TruncatedNormal('rv_lambda_aLCK_log_Poff_divisor_LA2',\n",
        "                                                                mu = mu_rv_lambda_aLCK_log_Poff_divisor_LA2, #\n",
        "                                                                sd = sd_rv_lambda_aLCK_log_Poff_divisor_LA2,\n",
        "                                                                lower = 0) # \n",
        "\n",
        "        rv_tmp_x1 = (rv_log_Diff - rv_lambda_aLCK_log_Diff_center_LA2) / rv_lambda_aLCK_log_Diff_divisor_LA2\n",
        "        rv_tmp_sig1 = 1.0 / (1 + np.exp(-rv_tmp_x1))\n",
        "        rv_tmp_x2 = (rv_log_Poff - rv_lambda_aLCK_log_Poff_center_LA2) / rv_lambda_aLCK_log_Poff_divisor_LA2\n",
        "        rv_tmp_sig2 = 1.0 / (1 + np.exp(-rv_tmp_x2))\n",
        "\n",
        "        rv_lambda_aLCK_LA2 = pm.Normal('rv_lambda_aLCK_LA', mu=rv_lambda_aLCK_min_LA2 +\\\n",
        "                                  (rv_lambda_aLCK_max_LA2 - rv_lambda_aLCK_min_LA2)*\\\n",
        "                                  rv_tmp_sig1 * rv_tmp_sig2,\n",
        "                                  sd=noise_lambda_aLCK_LA2) # , observed=lambda_aLCK_obs\n",
        "\n",
        "        ### Coupling model ########################################\n",
        "        ### Coupling model ########################### \n",
        "        \"\"\" example from previous coupled model:\n",
        "        rv_dw_aLCK_C = pm.Normal('rv_dw_aLCK_C', \n",
        "                                   mu= rv_dw_aLCK_LA3, \n",
        "                                   sd=2) \n",
        "        rv_dm_CD45_C = pm.Normal('rv_dm_CD45_C', \n",
        "                                   mu= rv_dm_CD45_KS1, \n",
        "                                   sd= 3) \n",
        "        ### Model 2 (TCR phosphorylation) ################    \n",
        "        # random variables x and y\n",
        "        rv_dw_aLCK_TP2 = pm.Normal('rv_dw_aLCK_TP2', \n",
        "                                   mu= rv_dw_aLCK_C, \n",
        "                                   sd=2) \n",
        "        rv_dm_CD45_TP2 = pm.Normal('rv_dm_CD45_TP2', \n",
        "                                   mu= rv_dm_CD45_C, \n",
        "                                   sd=3) \n",
        "        \"\"\"\n",
        "        ###########################################################\n",
        "        # from model1:\n",
        "        \"\"\"\n",
        "        rv_w_TCR_C = pm.Normal('rv_w_TCR_C', \n",
        "                                   mu = rv_w_TCR_KS1, \n",
        "                                   sd = 20)         \n",
        "        rv_w_CD45_C = pm.Normal('rv_w_CD45_C', \n",
        "                                   mu = rv_w_CD45_KS1, \n",
        "                                   sd = 20)\n",
        "        \"\"\"          \n",
        "        rv_dep_C = pm.Normal('rv_dep_C', \n",
        "                                   mu = rv_dep_KS1, \n",
        "                                   sd = 50) \n",
        "        \n",
        "        # from model2:\n",
        "        # rv_lambda_aLCK_C = pm.Normal('rv_lambda_aLCK_C', \n",
        "        #                            mu = rv_lambda_aLCK_LA2, \n",
        "        #                            sd = 2)\n",
        "\n",
        "        rv_decay_length_aLCK_C = pm.Normal('rv_decay_length_aLCK_C', \n",
        "                                   mu = 1/rv_lambda_aLCK_LA2, \n",
        "                                   sd = 50) \n",
        "        # rv_depletion_C = pm.Normal('rv_depletion_C', \n",
        "        #                            mu = rv_dep_C, \n",
        "        #                            sd = 30)\n",
        "        \n",
        "        ### model3 from coupled variables: ###############\n",
        "        rv_decay_length_LCK_TP3 = pm.Normal('rv_decay_length_TP3',\n",
        "                                        mu=rv_decay_length_aLCK_C,\n",
        "                                        sd=50)\n",
        "\n",
        "        rv_depletion_TP3 = pm.Normal('rv_depletion_TP3',\n",
        "                                        mu=rv_dep_C,\n",
        "                                        sd=30)\n",
        "\n",
        "        ### Model 3 (TCR phosphorylation) ################\n",
        "        # observed \n",
        "        rTCR_max_diff_obs = rTCR_max_diff_array.reshape(-1) #!!!!!!!!!!!\n",
        "        ### !!!\n",
        "\n",
        "        # rv_decay_length_aLCK_TP3 = pm.Uniform('rv_decay_length_TP', 0, 300,\n",
        "        #                                 observed=observed_decay_length_TP3)\n",
        "        # rv_depletion_aLCK_TP3 = pm.Uniform('rv_depletion_TP', 0, 800,\n",
        "        #                              observed=observed_depletion_TP3) \n",
        "\n",
        "\n",
        "        ### rTCR_max_diff\n",
        "        rv_noise_rTCR_max_diff_TP3 = pm.HalfNormal('rv_noise_rTCR_max_diff_TP3',\n",
        "                                              sd=mu_rv_noise_rTCR_max_diff_TP3) # noise \n",
        "        \n",
        "        ### decay_length:\n",
        "        rv_decay_length_sigma_TP3 = pm.Normal('rv_decay_length_sigma_TP3',\n",
        "                                             mu=mu_rv_decay_length_sigma_TP3,\n",
        "                                             sd=sd_rv_decay_length_sigma_TP3)\n",
        "        rv_decay_length_mu_TP3 = pm.Normal('rv_decay_length_mu_TP3',\n",
        "                                             mu=mu_rv_decay_length_mu_TP3,\n",
        "                                             sd=sd_rv_decay_length_mu_TP3)\n",
        "        rv_decay_length_scale_TP3 = pm.Normal('rv_decay_length_scale_TP3',\n",
        "                                             mu=mu_rv_decay_length_scale_TP3,\n",
        "                                             sd=sd_rv_decay_length_scale_TP3)\n",
        "        \n",
        "        rv_decay_length_gaussian_TP3 = rv_decay_length_scale_TP3*\\\n",
        "            np.exp(-0.5*((rv_decay_length_LCK_TP3 - rv_decay_length_mu_TP3)/rv_decay_length_sigma_TP3)**2)\n",
        "        \n",
        "        ### depletion:\n",
        "        rv_depletion_sigma_TP3 = pm.Normal('rv_depletion_sigma_TP3',\n",
        "                                             mu=mu_rv_depletion_sigma_TP3,\n",
        "                                             sd=sd_rv_depletion_sigma_TP3) # rv_dep_C\n",
        "        rv_depletion_mu_TP3 = pm.Normal('rv_depletion_mu_TP3',\n",
        "                                             mu=mu_rv_depletion_mu_TP3,\n",
        "                                             sd=sd_rv_depletion_mu_TP3)\n",
        "        rv_depletion_scale_TP3 = pm.Normal('rv_depletion_scale_TP3',\n",
        "                                             mu=mu_rv_depletion_scale_TP3,\n",
        "                                             sd=sd_rv_depletion_scale_TP3)\n",
        "        \n",
        "        rv_depletion_gaussian_TP3 = rv_depletion_scale_TP3*\\\n",
        "            np.exp(-0.5*((rv_depletion_TP3 - rv_depletion_mu_TP3)/rv_depletion_sigma_TP3)**2)       \n",
        "        \n",
        "        rv_rTCR_max_diff_TP3 = pm.Normal('rv_rTCR_max_diff_TP3', mu=rv_decay_length_gaussian_TP3*\\\n",
        "                                    rv_depletion_gaussian_TP3,                     \n",
        "                                    sd=rv_noise_rTCR_max_diff_TP3) # observed=rTCR_max_diff_obs\n",
        "\n",
        "    return metamodel\n",
        "\n",
        "\n"
      ],
      "execution_count": null,
      "outputs": []
    },
    {
      "cell_type": "code",
      "metadata": {
        "colab": {
          "base_uri": "https://localhost:8080/",
          "height": 345
        },
        "id": "U5Y15se10mCC",
        "outputId": "9056855e-155a-4c24-8d17-43a94ebc659f"
      },
      "source": [
        "# Down direction\n",
        "metamodel= get_metamodel(observed_t_KS1 = 75.0,\n",
        "                         observed_k_KS1 = 25.0,\n",
        "                         observed_log_Poff_LA2 = -3.0,\n",
        "                         observed_log_Diff_LA2 = -2.0,\n",
        "                         observed_depletion_TP3 = None, # None\n",
        "                         observed_decay_length_TP3 = None) # None\n"
      ],
      "execution_count": null,
      "outputs": [
        {
          "output_type": "error",
          "ename": "NameError",
          "evalue": "ignored",
          "traceback": [
            "\u001b[0;31m---------------------------------------------------------------------------\u001b[0m",
            "\u001b[0;31mNameError\u001b[0m                                 Traceback (most recent call last)",
            "\u001b[0;32m<ipython-input-5-09c750de5173>\u001b[0m in \u001b[0;36m<module>\u001b[0;34m()\u001b[0m\n\u001b[1;32m      5\u001b[0m                          \u001b[0mobserved_log_Diff_LA2\u001b[0m \u001b[0;34m=\u001b[0m \u001b[0;34m-\u001b[0m\u001b[0;36m2.0\u001b[0m\u001b[0;34m,\u001b[0m\u001b[0;34m\u001b[0m\u001b[0;34m\u001b[0m\u001b[0m\n\u001b[1;32m      6\u001b[0m                          \u001b[0mobserved_depletion_TP3\u001b[0m \u001b[0;34m=\u001b[0m \u001b[0;32mNone\u001b[0m\u001b[0;34m,\u001b[0m \u001b[0;31m# None\u001b[0m\u001b[0;34m\u001b[0m\u001b[0;34m\u001b[0m\u001b[0m\n\u001b[0;32m----> 7\u001b[0;31m                          observed_decay_length_TP3 = None) # None\n\u001b[0m",
            "\u001b[0;32m<ipython-input-4-fb754f875008>\u001b[0m in \u001b[0;36mget_metamodel\u001b[0;34m(observed_t_KS1, observed_k_KS1, observed_log_Poff_LA2, observed_log_Diff_LA2, observed_depletion_TP3, observed_decay_length_TP3)\u001b[0m\n\u001b[1;32m    219\u001b[0m \u001b[0;34m\u001b[0m\u001b[0m\n\u001b[1;32m    220\u001b[0m         rv_dep_KS1 = pm.Normal('rv_dep_KS1', mu=rv_min_dep_KS1 +                                  (rv_max_dep_KS1 - rv_min_dep_KS1)*                                  rv_tmp_sig1 + rv_sig_ratio_dep_KS1*rv_tmp_sig2,\n\u001b[0;32m--> 221\u001b[0;31m                                   sd=rv_noise_dep_KS1, observed=dep_KS_obs)\n\u001b[0m\u001b[1;32m    222\u001b[0m \u001b[0;34m\u001b[0m\u001b[0m\n\u001b[1;32m    223\u001b[0m \u001b[0;34m\u001b[0m\u001b[0m\n",
            "\u001b[0;31mNameError\u001b[0m: name 'dep_KS_obs' is not defined"
          ]
        }
      ]
    },
    {
      "cell_type": "code",
      "metadata": {
        "id": "x9pZryOGg_P7"
      },
      "source": [
        "gv_metamodel = pm.model_to_graphviz(metamodel)\n",
        "display(gv_metamodel)"
      ],
      "execution_count": null,
      "outputs": []
    },
    {
      "cell_type": "code",
      "metadata": {
        "id": "dvHu02AHudH1"
      },
      "source": [
        "# from google.colab import files\n",
        "# gv_metamodel.render(\"metamodel_graph\", format=\"png\")\n",
        "# files.download(\"metamodel_graph.png\") # Download locally from colab"
      ],
      "execution_count": null,
      "outputs": []
    },
    {
      "cell_type": "code",
      "metadata": {
        "id": "qZUfmaDmIm-O"
      },
      "source": [
        "with metamodel:\n",
        "    trace_metamodel = pm.sample(2000, chains=4)"
      ],
      "execution_count": null,
      "outputs": []
    },
    {
      "cell_type": "code",
      "metadata": {
        "id": "c9pUu5tVJ6hc"
      },
      "source": [
        "pm.traceplot(trace_metamodel);"
      ],
      "execution_count": null,
      "outputs": []
    },
    {
      "cell_type": "code",
      "metadata": {
        "id": "mqk4-DrdLBhc"
      },
      "source": [
        "# !cat /proc/cpuinfo"
      ],
      "execution_count": null,
      "outputs": []
    },
    {
      "cell_type": "code",
      "metadata": {
        "id": "MeENDBn-vz6-"
      },
      "source": [
        "pm.summary(trace_metamodel).round(2)"
      ],
      "execution_count": null,
      "outputs": []
    },
    {
      "cell_type": "code",
      "metadata": {
        "id": "9USHoTFIwm9m"
      },
      "source": [
        "vars(metamodel)"
      ],
      "execution_count": null,
      "outputs": []
    },
    {
      "cell_type": "code",
      "metadata": {
        "id": "S7pDowWivSvg"
      },
      "source": [
        "pm.summary(trace_metamodel, ['rv_rTCR_max_diff_TP3'])"
      ],
      "execution_count": null,
      "outputs": []
    },
    {
      "cell_type": "markdown",
      "metadata": {
        "id": "O2zB2qyJ6bE1"
      },
      "source": [
        "Direction A (KS, LA to TP):"
      ]
    },
    {
      "cell_type": "code",
      "metadata": {
        "id": "C-MevEgmioWY"
      },
      "source": [
        "metamodel= get_metamodel(observed_t_KS1 = 75.0,\n",
        "                         observed_k_KS1 = 25.0,\n",
        "                         observed_log_Poff_LA2 = -3.0,\n",
        "                         observed_log_Diff_LA2 = -2.0,\n",
        "                         observed_depletion_TP3 = None,\n",
        "                         observed_decay_length_TP3 = None)\n",
        "\n",
        "with metamodel:\n",
        "    trace_metamodel = pm.sample(2000, chains=4)\n",
        "\n"
      ],
      "execution_count": null,
      "outputs": []
    },
    {
      "cell_type": "code",
      "metadata": {
        "id": "QSRLSqiS575j"
      },
      "source": [
        "pm.summary(trace_metamodel, ['rv_depletion_TP3','rv_decay_length_TP3'])\n"
      ],
      "execution_count": null,
      "outputs": []
    },
    {
      "cell_type": "code",
      "metadata": {
        "id": "hCGOeGCI58vF"
      },
      "source": [
        ""
      ],
      "execution_count": null,
      "outputs": []
    },
    {
      "cell_type": "code",
      "metadata": {
        "id": "0JNnuS0BdDgA"
      },
      "source": [
        "\n",
        "mu_rv_rTCR_max_diff_TP3 = trace_metamodel.rv_rTCR_max_diff_TP3.mean()\n",
        "sd_rv_rTCR_max_diff_TP3 = trace_metamodel.rv_rTCR_max_diff_TP3.std()\n",
        "\n",
        "print('mu_rv_rTCR_max_diff_TP3 =', mu_rv_rTCR_max_diff_TP3)\n",
        "print('sd_rv_rTCR_max_diff_TP3 =', sd_rv_rTCR_max_diff_TP3)\n",
        "\n",
        "# pm.summary(trace_metamodel, ['rv_rTCR_max_diff_TP3'])"
      ],
      "execution_count": null,
      "outputs": []
    },
    {
      "cell_type": "markdown",
      "metadata": {
        "id": "9-DUCIOk6HP7"
      },
      "source": [
        "Direction B (TP to KS, LA):"
      ]
    },
    {
      "cell_type": "code",
      "metadata": {
        "id": "5hhMNMEYsSud"
      },
      "source": [
        "metamodel= get_metamodel(observed_t_KS1 = None,\n",
        "                         observed_k_KS1 = None,\n",
        "                         observed_log_Poff_LA2 = None,\n",
        "                         observed_log_Diff_LA2 = None,\n",
        "                         observed_depletion_TP3 = 127, # 200\n",
        "                         observed_decay_length_TP3 = 67) # 100\n",
        "\n",
        "with metamodel:\n",
        "    trace_metamodel = pm.sample(2000, chains=4)"
      ],
      "execution_count": null,
      "outputs": []
    },
    {
      "cell_type": "code",
      "metadata": {
        "id": "rfzub7xjzEKo"
      },
      "source": [
        "vars(metamodel)"
      ],
      "execution_count": null,
      "outputs": []
    },
    {
      "cell_type": "code",
      "metadata": {
        "id": "SmraHVy3zrv-"
      },
      "source": [
        "pm.summary(trace_metamodel, ['rv_t','rv_k','rv_log_Diff','rv_log_Poff']) # \n",
        "# ['param_t','param_k','param_log_Diff','param_log_Poff']"
      ],
      "execution_count": null,
      "outputs": []
    },
    {
      "cell_type": "code",
      "metadata": {
        "id": "anmCFdJVsjCQ"
      },
      "source": [
        "# mu_rv_rTCR_max_diff_TP3 = trace_metamodel.rv_rTCR_max_diff_TP3.mean()\n",
        "# sd_rv_rTCR_max_diff_TP3 = trace_metamodel.rv_rTCR_max_diff_TP3.std()\n",
        "\n",
        "# print('mu_rv_rTCR_max_diff_TP3 =', mu_rv_rTCR_max_diff_TP3)\n",
        "# print('sd_rv_rTCR_max_diff_TP3 =', sd_rv_rTCR_max_diff_TP3)"
      ],
      "execution_count": null,
      "outputs": []
    },
    {
      "cell_type": "code",
      "metadata": {
        "id": "yWiUScXee9au"
      },
      "source": [
        "# # plt.scatter(trace_metamodel.rv_dm_CD45_TP2, trace_metamodel.rv_dw_aLCK_TP2, s=1)\n",
        "# # plt.xlabel('rv_dm_CD45_TP2(nm)')\n",
        "# # plt.ylabel('rv_dw_aLCK_TP2(nm)')\n",
        "# plt.xlim(300, 1000)"
      ],
      "execution_count": null,
      "outputs": []
    },
    {
      "cell_type": "code",
      "metadata": {
        "id": "V_UJ1DN0FZj6"
      },
      "source": [
        ""
      ],
      "execution_count": null,
      "outputs": []
    }
  ]
}